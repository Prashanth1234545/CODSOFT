{
  "nbformat": 4,
  "nbformat_minor": 0,
  "metadata": {
    "colab": {
      "provenance": [],
      "authorship_tag": "ABX9TyP5/7bGzI7cEmbyGT6L+MyG",
      "include_colab_link": true
    },
    "kernelspec": {
      "name": "python3",
      "display_name": "Python 3"
    },
    "language_info": {
      "name": "python"
    }
  },
  "cells": [
    {
      "cell_type": "markdown",
      "metadata": {
        "id": "view-in-github",
        "colab_type": "text"
      },
      "source": [
        "<a href=\"https://colab.research.google.com/github/Prashanth1234545/CODSOFT/blob/main/CODSOFT_TASK_1_TITANIC_SURVIVAL_PREDICTION.ipynb\" target=\"_parent\"><img src=\"https://colab.research.google.com/assets/colab-badge.svg\" alt=\"Open In Colab\"/></a>"
      ]
    },
    {
      "cell_type": "markdown",
      "source": [
        "**Load and Explore the Data**"
      ],
      "metadata": {
        "id": "4v3KYugOGYXT"
      }
    },
    {
      "cell_type": "code",
      "execution_count": null,
      "metadata": {
        "colab": {
          "base_uri": "https://localhost:8080/"
        },
        "id": "wuC9-aZx505N",
        "outputId": "66b6cf00-8ef5-4a74-8f58-4232e5d8148d"
      },
      "outputs": [
        {
          "output_type": "stream",
          "name": "stdout",
          "text": [
            "   PassengerId  Survived  Pclass  \\\n",
            "0            1         0       3   \n",
            "1            2         1       1   \n",
            "2            3         1       3   \n",
            "3            4         1       1   \n",
            "4            5         0       3   \n",
            "\n",
            "                                                Name     Sex   Age  SibSp  \\\n",
            "0                            Braund, Mr. Owen Harris    male  22.0      1   \n",
            "1  Cumings, Mrs. John Bradley (Florence Briggs Th...  female  38.0      1   \n",
            "2                             Heikkinen, Miss. Laina  female  26.0      0   \n",
            "3       Futrelle, Mrs. Jacques Heath (Lily May Peel)  female  35.0      1   \n",
            "4                           Allen, Mr. William Henry    male  35.0      0   \n",
            "\n",
            "   Parch            Ticket     Fare Cabin Embarked  \n",
            "0      0         A/5 21171   7.2500   NaN        S  \n",
            "1      0          PC 17599  71.2833   C85        C  \n",
            "2      0  STON/O2. 3101282   7.9250   NaN        S  \n",
            "3      0            113803  53.1000  C123        S  \n",
            "4      0            373450   8.0500   NaN        S  \n"
          ]
        }
      ],
      "source": [
        "import pandas as pd\n",
        "import seaborn as sns\n",
        "\n",
        "# Load the dataset using pandas\n",
        "titanic = pd.read_csv('/Titanic-Dataset.csv')\n",
        "\n",
        "# Display the first few rows of the dataset\n",
        "print(titanic.head())"
      ]
    },
    {
      "cell_type": "code",
      "source": [
        "titanic.info()"
      ],
      "metadata": {
        "colab": {
          "base_uri": "https://localhost:8080/"
        },
        "id": "25Ip0N2o8iqS",
        "outputId": "90380400-e1d1-4a00-9838-c02ddf84787b"
      },
      "execution_count": null,
      "outputs": [
        {
          "output_type": "stream",
          "name": "stdout",
          "text": [
            "<class 'pandas.core.frame.DataFrame'>\n",
            "RangeIndex: 891 entries, 0 to 890\n",
            "Data columns (total 12 columns):\n",
            " #   Column       Non-Null Count  Dtype  \n",
            "---  ------       --------------  -----  \n",
            " 0   PassengerId  891 non-null    int64  \n",
            " 1   Survived     891 non-null    int64  \n",
            " 2   Pclass       891 non-null    int64  \n",
            " 3   Name         891 non-null    object \n",
            " 4   Sex          891 non-null    object \n",
            " 5   Age          714 non-null    float64\n",
            " 6   SibSp        891 non-null    int64  \n",
            " 7   Parch        891 non-null    int64  \n",
            " 8   Ticket       891 non-null    object \n",
            " 9   Fare         891 non-null    float64\n",
            " 10  Cabin        204 non-null    object \n",
            " 11  Embarked     889 non-null    object \n",
            "dtypes: float64(2), int64(5), object(5)\n",
            "memory usage: 83.7+ KB\n"
          ]
        }
      ]
    },
    {
      "cell_type": "code",
      "source": [
        "import pandas as pd\n",
        "import seaborn as sns\n",
        "\n",
        "titanic = sns.load_dataset('titanic')\n",
        "\n",
        "print(titanic.columns)\n",
        "\n",
        "columns_to_drop = ['deck', 'embark_town', 'alive']\n",
        "existing_columns_to_drop = [col for col in columns_to_drop if col in titanic.columns]\n",
        "titanic = titanic.drop(existing_columns_to_drop, axis=1)\n",
        "\n",
        "if 'age' in titanic.columns:\n",
        "    titanic['age'].fillna(titanic['age'].median(), inplace=True)\n",
        "\n",
        "if 'embarked' in titanic.columns:\n",
        "    titanic['embarked'].fillna(titanic['embarked'].mode()[0], inplace=True)\n",
        "\n",
        "titanic = pd.get_dummies(titanic, columns=['sex', 'embarked', 'pclass'], drop_first=True)\n",
        "\n",
        "# Check the processed DataFrame\n",
        "print(titanic.head())\n"
      ],
      "metadata": {
        "colab": {
          "base_uri": "https://localhost:8080/"
        },
        "id": "RJu7qr7w9ohb",
        "outputId": "0a77b845-7100-4310-9792-96ea2d5cc09d"
      },
      "execution_count": null,
      "outputs": [
        {
          "output_type": "stream",
          "name": "stdout",
          "text": [
            "Index(['survived', 'pclass', 'sex', 'age', 'sibsp', 'parch', 'fare',\n",
            "       'embarked', 'class', 'who', 'adult_male', 'deck', 'embark_town',\n",
            "       'alive', 'alone'],\n",
            "      dtype='object')\n",
            "   survived   age  sibsp  parch     fare  class    who  adult_male  alone  \\\n",
            "0         0  22.0      1      0   7.2500  Third    man        True  False   \n",
            "1         1  38.0      1      0  71.2833  First  woman       False  False   \n",
            "2         1  26.0      0      0   7.9250  Third  woman       False   True   \n",
            "3         1  35.0      1      0  53.1000  First  woman       False  False   \n",
            "4         0  35.0      0      0   8.0500  Third    man        True   True   \n",
            "\n",
            "   sex_male  embarked_Q  embarked_S  pclass_2  pclass_3  \n",
            "0      True       False        True     False      True  \n",
            "1     False       False       False     False     False  \n",
            "2     False       False        True     False      True  \n",
            "3     False       False        True     False     False  \n",
            "4      True       False        True     False      True  \n"
          ]
        }
      ]
    },
    {
      "cell_type": "markdown",
      "source": [
        "**Preprocessing**"
      ],
      "metadata": {
        "id": "gQt6Znv_GR1y"
      }
    },
    {
      "cell_type": "code",
      "source": [
        "def preprocess_data(df):\n",
        "    df['Age'].fillna(df['Age'].median(), inplace=True)\n",
        "    df['Embarked'].fillna(df['Embarked'].mode()[0], inplace=True)\n",
        "    df['Fare'].fillna(df['Fare'].median(), inplace=True)\n",
        "\n",
        "    df['Sex'] = df['Sex'].map({'male': 0, 'female': 1})\n",
        "    df['Embarked'] = df['Embarked'].map({'C': 0, 'Q': 1, 'S': 2})\n",
        "\n",
        "    df.drop(['Name', 'Ticket', 'Cabin', 'PassengerId'], axis=1, inplace=True)\n",
        "    return df\n",
        "\n",
        "from sklearn.model_selection import train_test_split\n",
        "train_df, test_df = train_test_split(titanic, test_size=0.2, random_state=42)\n",
        "\n",
        "train_df = preprocess_data(train_df)\n",
        "test_df = preprocess_data(test_df)\n"
      ],
      "metadata": {
        "id": "nsWw9RmZDWX-"
      },
      "execution_count": 22,
      "outputs": []
    },
    {
      "cell_type": "markdown",
      "source": [
        "**Feature Selection**"
      ],
      "metadata": {
        "id": "2wNDbXfCGI0X"
      }
    },
    {
      "cell_type": "code",
      "source": [
        "X_train = train_df.drop('Survived', axis=1)\n",
        "y_train = train_df['Survived']\n",
        "X_test = test_df.drop('Survived', axis=1) # Drop 'Survived' from X_test\n",
        "\n",
        "from sklearn.preprocessing import StandardScaler\n",
        "\n",
        "scaler = StandardScaler()\n",
        "X_train_scaled = scaler.fit_transform(X_train)\n",
        "X_test_scaled = scaler.transform(X_test)\n"
      ],
      "metadata": {
        "id": "k6fNsyy3ETaZ"
      },
      "execution_count": 10,
      "outputs": []
    },
    {
      "cell_type": "code",
      "source": [
        "print(X_train_scaled)"
      ],
      "metadata": {
        "colab": {
          "base_uri": "https://localhost:8080/"
        },
        "id": "WWQ8YfQ5Es9A",
        "outputId": "9acd1436-b063-4c63-80c2-e221adfb5d35"
      },
      "execution_count": 12,
      "outputs": [
        {
          "output_type": "stream",
          "name": "stdout",
          "text": [
            "[[-1.61413602 -0.7243102   1.25364106 ... -0.47934164 -0.07868358\n",
            "   0.5635246 ]\n",
            " [-0.40055118 -0.7243102  -0.47728355 ... -0.47934164 -0.37714494\n",
            "   0.5635246 ]\n",
            " [ 0.81303367 -0.7243102   0.21508629 ... -0.47934164 -0.47486697\n",
            "   0.5635246 ]\n",
            " ...\n",
            " [ 0.81303367 -0.7243102   0.90745614 ... -0.47934164 -0.35580399\n",
            "   0.5635246 ]\n",
            " [-1.61413602  1.38062393 -1.1696534  ...  2.04874166  1.68320121\n",
            "   0.5635246 ]\n",
            " [-1.61413602 -0.7243102  -0.63114352 ...  0.78470001  0.86074761\n",
            "   0.5635246 ]]\n"
          ]
        }
      ]
    },
    {
      "cell_type": "code",
      "source": [
        "print(X_train)"
      ],
      "metadata": {
        "colab": {
          "base_uri": "https://localhost:8080/"
        },
        "id": "w3ra0KFVExJ3",
        "outputId": "9e2bd7c3-b72e-4031-d282-f575a32f69a8"
      },
      "execution_count": 13,
      "outputs": [
        {
          "output_type": "stream",
          "name": "stdout",
          "text": [
            "     Pclass  Sex   Age  SibSp  Parch      Fare  Embarked\n",
            "331       1    0  45.5      0      0   28.5000         2\n",
            "733       2    0  23.0      0      0   13.0000         2\n",
            "382       3    0  32.0      0      0    7.9250         2\n",
            "704       3    0  26.0      1      0    7.8542         2\n",
            "813       3    1   6.0      4      2   31.2750         2\n",
            "..      ...  ...   ...    ...    ...       ...       ...\n",
            "106       3    1  21.0      0      0    7.6500         2\n",
            "270       1    0  28.0      0      0   31.0000         2\n",
            "860       3    0  41.0      2      0   14.1083         2\n",
            "435       1    1  14.0      1      2  120.0000         2\n",
            "102       1    0  21.0      0      1   77.2875         2\n",
            "\n",
            "[712 rows x 7 columns]\n"
          ]
        }
      ]
    },
    {
      "cell_type": "code",
      "source": [
        "print(X_test)"
      ],
      "metadata": {
        "colab": {
          "base_uri": "https://localhost:8080/"
        },
        "id": "pwBm1dhnE4Ed",
        "outputId": "8653496f-8498-493b-cd69-cb49ae7cf659"
      },
      "execution_count": 14,
      "outputs": [
        {
          "output_type": "stream",
          "name": "stdout",
          "text": [
            "     Pclass  Sex   Age  SibSp  Parch     Fare  Embarked\n",
            "709       3    0  29.0      1      1  15.2458         0\n",
            "439       2    0  31.0      0      0  10.5000         2\n",
            "840       3    0  20.0      0      0   7.9250         2\n",
            "720       2    1   6.0      0      1  33.0000         2\n",
            "39        3    1  14.0      1      0  11.2417         0\n",
            "..      ...  ...   ...    ...    ...      ...       ...\n",
            "433       3    0  17.0      0      0   7.1250         2\n",
            "773       3    0  29.0      0      0   7.2250         0\n",
            "25        3    1  38.0      1      5  31.3875         2\n",
            "84        2    1  17.0      0      0  10.5000         2\n",
            "10        3    1   4.0      1      1  16.7000         2\n",
            "\n",
            "[179 rows x 7 columns]\n"
          ]
        }
      ]
    },
    {
      "cell_type": "markdown",
      "source": [
        "**MODEL TRAINING**"
      ],
      "metadata": {
        "id": "cymWQ5CVEkow"
      }
    },
    {
      "cell_type": "code",
      "source": [
        "from sklearn.linear_model import LogisticRegression\n",
        "from sklearn.model_selection import train_test_split\n",
        "from sklearn.metrics import accuracy_score, confusion_matrix, classification_report\n",
        "\n",
        "# Split training data into training and validation sets\n",
        "X_train_split, X_val_split, y_train_split, y_val_split = train_test_split(X_train_scaled, y_train, test_size=0.2, random_state=42)\n",
        "\n",
        "# Initialize and train the model\n",
        "model = LogisticRegression(max_iter=1000)\n",
        "model.fit(X_train_split, y_train_split)\n",
        "\n",
        "# Make predictions\n",
        "y_pred = model.predict(X_val_split)\n",
        "\n",
        "# Evaluate the model\n",
        "print(\"Accuracy:\", accuracy_score(y_val_split, y_pred))\n",
        "print(\"Confusion Matrix:\\n\", confusion_matrix(y_val_split, y_pred))\n",
        "print(\"Classification Report:\\n\", classification_report(y_val_split, y_pred))\n"
      ],
      "metadata": {
        "colab": {
          "base_uri": "https://localhost:8080/"
        },
        "id": "DscRTjI0EiNd",
        "outputId": "c7a6dace-f703-4379-f2eb-3212a0e1f344"
      },
      "execution_count": 11,
      "outputs": [
        {
          "output_type": "stream",
          "name": "stdout",
          "text": [
            "Accuracy: 0.8041958041958042\n",
            "Confusion Matrix:\n",
            " [[72 15]\n",
            " [13 43]]\n",
            "Classification Report:\n",
            "               precision    recall  f1-score   support\n",
            "\n",
            "           0       0.85      0.83      0.84        87\n",
            "           1       0.74      0.77      0.75        56\n",
            "\n",
            "    accuracy                           0.80       143\n",
            "   macro avg       0.79      0.80      0.80       143\n",
            "weighted avg       0.81      0.80      0.80       143\n",
            "\n"
          ]
        }
      ]
    },
    {
      "cell_type": "markdown",
      "source": [
        "**MAKE PREDICTION**\n",
        "\n"
      ],
      "metadata": {
        "id": "u0sCY4xcFBT_"
      }
    },
    {
      "cell_type": "code",
      "source": [
        "test_predictions = model.predict(X_test_scaled)\n",
        "\n",
        "submission_df = pd.DataFrame({'PassengerId': test_df.index + 892, 'Survived': test_predictions})\n",
        "submission_df.to_csv('submission.csv', index=False)\n"
      ],
      "metadata": {
        "id": "K3z1GXstE-1t"
      },
      "execution_count": 15,
      "outputs": []
    },
    {
      "cell_type": "code",
      "source": [
        "print(submission_df)"
      ],
      "metadata": {
        "colab": {
          "base_uri": "https://localhost:8080/"
        },
        "id": "aZedMXWNFMnH",
        "outputId": "5277c7c5-5cb6-4d5a-9097-d046a6349bdf"
      },
      "execution_count": 18,
      "outputs": [
        {
          "output_type": "stream",
          "name": "stdout",
          "text": [
            "     PassengerId  Survived\n",
            "0           1601         0\n",
            "1           1331         0\n",
            "2           1732         0\n",
            "3           1612         1\n",
            "4            931         1\n",
            "..           ...       ...\n",
            "174         1325         0\n",
            "175         1665         0\n",
            "176          917         0\n",
            "177          976         1\n",
            "178          902         1\n",
            "\n",
            "[179 rows x 2 columns]\n"
          ]
        }
      ]
    },
    {
      "cell_type": "code",
      "source": [
        "print(submission_df.head())"
      ],
      "metadata": {
        "colab": {
          "base_uri": "https://localhost:8080/"
        },
        "id": "iVDsLezLFSW6",
        "outputId": "793d99f5-b829-4030-8c56-bf31ed12370b"
      },
      "execution_count": 19,
      "outputs": [
        {
          "output_type": "stream",
          "name": "stdout",
          "text": [
            "   PassengerId  Survived\n",
            "0         1601         0\n",
            "1         1331         0\n",
            "2         1732         0\n",
            "3         1612         1\n",
            "4          931         1\n"
          ]
        }
      ]
    },
    {
      "cell_type": "code",
      "source": [
        "print(submission_df.to_csv)"
      ],
      "metadata": {
        "colab": {
          "base_uri": "https://localhost:8080/"
        },
        "id": "2eBzyq7uFeyd",
        "outputId": "86d3ecc4-fd98-4241-948e-b02353f9e4a4"
      },
      "execution_count": 20,
      "outputs": [
        {
          "output_type": "stream",
          "name": "stdout",
          "text": [
            "<bound method NDFrame.to_csv of      PassengerId  Survived\n",
            "0           1601         0\n",
            "1           1331         0\n",
            "2           1732         0\n",
            "3           1612         1\n",
            "4            931         1\n",
            "..           ...       ...\n",
            "174         1325         0\n",
            "175         1665         0\n",
            "176          917         0\n",
            "177          976         1\n",
            "178          902         1\n",
            "\n",
            "[179 rows x 2 columns]>\n"
          ]
        }
      ]
    },
    {
      "cell_type": "markdown",
      "source": [
        " **Visualize Results**"
      ],
      "metadata": {
        "id": "5gD46mGaFxvQ"
      }
    },
    {
      "cell_type": "code",
      "source": [
        "import matplotlib.pyplot as plt\n",
        "import seaborn as sns\n",
        "\n",
        "sns.countplot(data=train_df, x='Survived', palette='viridis')\n",
        "plt.title('Survival Count')\n",
        "plt.show()\n"
      ],
      "metadata": {
        "colab": {
          "base_uri": "https://localhost:8080/",
          "height": 559
        },
        "id": "LsO_Er9FFotU",
        "outputId": "9a4dcf23-fd20-440c-dd71-7d8d568ea55e"
      },
      "execution_count": 23,
      "outputs": [
        {
          "output_type": "stream",
          "name": "stderr",
          "text": [
            "<ipython-input-23-2a59925d2c8c>:4: FutureWarning: \n",
            "\n",
            "Passing `palette` without assigning `hue` is deprecated and will be removed in v0.14.0. Assign the `x` variable to `hue` and set `legend=False` for the same effect.\n",
            "\n",
            "  sns.countplot(data=train_df, x='Survived', palette='viridis')\n"
          ]
        },
        {
          "output_type": "display_data",
          "data": {
            "text/plain": [
              "<Figure size 640x480 with 1 Axes>"
            ],
            "image/png": "[encoded data removed]"
          },
          "metadata": {}
        }
      ]
    }
  ]
}